{
 "cells": [
  {
   "cell_type": "code",
   "execution_count": null,
   "metadata": {},
   "outputs": [],
   "source": [
    "import request\n",
    "r = request.get(\"https://www.google.com/url?sa=i&url=https%3A%2F%2Ftwitter.com%2Flmmaminion&psig=AOvVaw2z_4RD1uknhcS14mkXZ5gN&ust=1622177673888000&source=images&cd=vfe&ved=0CAIQjRxqFwoTCIC3-faI6fACFQAAAAAdAAAAABAD\")\n",
    "with open ('cominc.png',wb) as f:\n",
    "    f.write(r.content)\n",
    "print(r.status_code)"
   ]
  }
 ],
 "metadata": {
  "kernelspec": {
   "display_name": "Python 3",
   "language": "python",
   "name": "python3"
  },
  "language_info": {
   "codemirror_mode": {
    "name": "ipython",
    "version": 3
   },
   "file_extension": ".py",
   "mimetype": "text/x-python",
   "name": "python",
   "nbconvert_exporter": "python",
   "pygments_lexer": "ipython3",
   "version": "3.8.5"
  }
 },
 "nbformat": 4,
 "nbformat_minor": 4
}

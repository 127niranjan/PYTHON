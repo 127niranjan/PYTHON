{
 "cells": [
  {
   "cell_type": "code",
   "execution_count": null,
   "metadata": {},
   "outputs": [],
   "source": [
    "import smtplib\n",
    "FROM = \"niranjan.reddy127@gmail.com\"\n",
    "TO = \"niranjan.reddy127@gmail.com\"\n",
    "TEXT = \"MAIL TEST5\"\n",
    "PWd = \"9989048767\"\n",
    "SUBJECT = \"MAIL TESTS\"\n",
    "TEXT = \"PYTHON\"\n",
    "\n",
    "massage = \"sunject: %s \\n \\n %s\" %(SUBJECT, TEXT)\n",
    "try:\n",
    "    server = smtplib.SMTP(\"smtp.gmail.com\", 587)\n",
    "    server.ehlo()\n",
    "    server.startls()\n",
    "    server.login(FROM, PWD)\n",
    "    SERVER.SENDMAIL(FROM,TO,)"
   ]
  }
 ],
 "metadata": {
  "kernelspec": {
   "display_name": "Python 3",
   "language": "python",
   "name": "python3"
  },
  "language_info": {
   "codemirror_mode": {
    "name": "ipython",
    "version": 3
   },
   "file_extension": ".py",
   "mimetype": "text/x-python",
   "name": "python",
   "nbconvert_exporter": "python",
   "pygments_lexer": "ipython3",
   "version": "3.8.5"
  }
 },
 "nbformat": 4,
 "nbformat_minor": 4
}

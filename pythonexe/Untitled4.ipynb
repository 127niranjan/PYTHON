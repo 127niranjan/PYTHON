{
 "cells": [
  {
   "cell_type": "code",
   "execution_count": 24,
   "metadata": {},
   "outputs": [
    {
     "ename": "SyntaxError",
     "evalue": "invalid syntax (<ipython-input-24-d7b4324946ec>, line 12)",
     "output_type": "error",
     "traceback": [
      "\u001b[0;36m  File \u001b[0;32m\"<ipython-input-24-d7b4324946ec>\"\u001b[0;36m, line \u001b[0;32m12\u001b[0m\n\u001b[0;31m    y = int(input(\"enter second value\")\u001b[0m\n\u001b[0m    ^\u001b[0m\n\u001b[0;31mSyntaxError\u001b[0m\u001b[0;31m:\u001b[0m invalid syntax\n"
     ]
    }
   ],
   "source": [
    "def add(a,b):\n",
    "    return a + b\n",
    "def sub(a,b):\n",
    "    return a - b\n",
    "def mul(a,b):\n",
    "    return a * b\n",
    "\n",
    "while True :\n",
    "    operation = input(\"enter operation add/sub/mul\")\n",
    "    if operation in (\"add\", \"sub\" , \"mul\"):\n",
    "        x = int(input(\"enter first value\")\n",
    "        y = int(input(\"enter second value\")\n",
    "                if operation == \"add\":\n",
    "                print(x,y,add(x,y))\n",
    "                elif operation == \"sub\":\n",
    "                print (x,y,sub(x,y))\n",
    "                elif operation == \"mul\":\n",
    "                print(x,y,mul(x,y))\n",
    "                break\n",
    "    else:\n",
    "                print(\"invalid input\")\n",
    "         "
   ]
  },
  {
   "cell_type": "code",
   "execution_count": null,
   "metadata": {},
   "outputs": [],
   "source": []
  }
 ],
 "metadata": {
  "kernelspec": {
   "display_name": "Python 3",
   "language": "python",
   "name": "python3"
  },
  "language_info": {
   "codemirror_mode": {
    "name": "ipython",
    "version": 3
   },
   "file_extension": ".py",
   "mimetype": "text/x-python",
   "name": "python",
   "nbconvert_exporter": "python",
   "pygments_lexer": "ipython3",
   "version": "3.8.5"
  }
 },
 "nbformat": 4,
 "nbformat_minor": 4
}
